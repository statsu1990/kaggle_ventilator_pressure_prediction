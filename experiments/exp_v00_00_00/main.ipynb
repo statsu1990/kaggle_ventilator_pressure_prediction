{
 "cells": [
  {
   "cell_type": "markdown",
   "source": [
    "# 内容\r\n",
    "- データ読み込み\r\n",
    "- split\r\n",
    "- x, y生成\r\n",
    "- 学習\r\n",
    "- 評価\r\n",
    "- submit"
   ],
   "metadata": {}
  },
  {
   "cell_type": "code",
   "execution_count": 1,
   "source": [
    "import os\r\n",
    "import pickle\r\n",
    "\r\n",
    "import pandas as pd\r\n",
    "import numpy as np\r\n",
    "from sklearn import model_selection\r\n",
    "\r\n",
    "import utils as ut"
   ],
   "outputs": [],
   "metadata": {}
  },
  {
   "cell_type": "code",
   "execution_count": 2,
   "source": [
    "DEBUG = True\r\n",
    "ut.seed_everything(24)"
   ],
   "outputs": [],
   "metadata": {}
  },
  {
   "cell_type": "code",
   "execution_count": 3,
   "source": [
    "tr_file = \"../../input/ventilator-pressure-prediction/train.csv\"\r\n",
    "ts_file = \"../../input/ventilator-pressure-prediction/test.csv\"\r\n",
    "tr_df = pd.read_csv(tr_file)\r\n",
    "ts_df = pd.read_csv(ts_file)"
   ],
   "outputs": [],
   "metadata": {}
  },
  {
   "cell_type": "code",
   "execution_count": 4,
   "source": [
    "# shuffled breath_id\r\n",
    "tr_df[\"shuffled_breath_id\"] = ut.make_shuffled_id(tr_df[\"breath_id\"])"
   ],
   "outputs": [],
   "metadata": {}
  },
  {
   "cell_type": "code",
   "execution_count": 5,
   "source": [
    "def make_x(df):\r\n",
    "    ft = ut.Feature()\r\n",
    "    x = ft.transform(df)\r\n",
    "    return x\r\n",
    "\r\n",
    "def make_y(df):\r\n",
    "    tg = ut.Target()\r\n",
    "    y = tg.transform(df)\r\n",
    "    return y\r\n",
    "\r\n",
    "def get_model(n_feat, prefix=\"\"):\r\n",
    "    model_prms = {\r\n",
    "        \"scaling_prms\": dict(n_scaler=1),\r\n",
    "        \"dnn_prms\": dict(n_feat=n_feat, n_channel=64, dropout=0.0, n_rc_layer=2), \r\n",
    "        \"tr_prms\": dict(\r\n",
    "            criterion=ut.VentilatorLoss(),\r\n",
    "            opt=\"adam\",\r\n",
    "            opt_params=dict(lr=0.001, weight_decay=1e-4),\r\n",
    "            sch_params=None, #{'max_lr': lr, 'pct_start':0.1, 'div_factor':5, 'final_div_factor': 10000}, # initial_lr = max_lr/div_factor, min_lr = initial_lr/final_div_factor\r\n",
    "            epochs=50, \r\n",
    "            prefix=prefix,\r\n",
    "            save_best=True,\r\n",
    "            maximize_score=False,\r\n",
    "        ), \r\n",
    "        \"seq_len\": 80,\r\n",
    "        \"use_seq_len\": 32, \r\n",
    "        \"train_batch_size\": 256,\r\n",
    "        \"pred_batch_size\": 1024,\r\n",
    "    }\r\n",
    "    model = ut.Model(**model_prms)\r\n",
    "    return model\r\n",
    "\r\n",
    "def run_fold(tr_df, vl_df, prefix=\"\"):\r\n",
    "    # x, y\r\n",
    "    tr_x = make_x(tr_df)\r\n",
    "    tr_y = make_y(tr_df)\r\n",
    "    vl_x = make_x(vl_df)\r\n",
    "    vl_y = make_y(vl_df)\r\n",
    "\r\n",
    "    model = get_model(tr_x.shape[1], prefix)\r\n",
    "    model.fit(tr_x, tr_y, vl_x, vl_y)\r\n",
    "\r\n",
    "    #tr_pred = model.predict(tr_x)\r\n",
    "    vl_pred = model.predict(vl_x)\r\n",
    "\r\n",
    "    #tr_df = pd.concat([tr_df, tr_x, pd.DataFrame(tr_pred, index=tr_df.index, columns=[\"pred\"])], axis=1)\r\n",
    "    vl_df = pd.concat([vl_df, vl_x, pd.DataFrame(vl_pred, index=vl_df.index, columns=[\"pred\"])], axis=1)\r\n",
    "    return model, tr_df, vl_df\r\n",
    "\r\n",
    "def run_cv(df, n_split, n_fold):\r\n",
    "    kf = model_selection.GroupKFold(n_splits=n_split)\r\n",
    "\r\n",
    "    oof_df = []\r\n",
    "    for fold, (tr_idxs, vl_idxs) in enumerate(kf.split(X=np.arange(len(df)), groups=df[\"shuffled_breath_id\"].values)):\r\n",
    "        if n_fold <= fold:\r\n",
    "            break\r\n",
    "        print(\"fold\", fold)\r\n",
    "        prefix = f\"fold{fold}_\"\r\n",
    "\r\n",
    "        tr_df = df.iloc[tr_idxs].copy()\r\n",
    "        vl_df = df.iloc[vl_idxs].copy()\r\n",
    "        tr_df[\"fold\"] = fold\r\n",
    "        vl_df[\"fold\"] = fold\r\n",
    "\r\n",
    "        model, tr_df, vl_df = run_fold(tr_df, vl_df, prefix)\r\n",
    "\r\n",
    "        oof_df.append(vl_df)\r\n",
    "        with open(f'{prefix}model.pickle', mode='wb') as fp:\r\n",
    "            model.set_dev('cpu')\r\n",
    "            pickle.dump(model, fp)\r\n",
    "\r\n",
    "        #tr_df.to_csv(f\"{prefix}tr_df.csv\", index=False)\r\n",
    "        #vl_df.to_csv(f\"{prefix}vl_df.csv\", index=False)\r\n",
    "\r\n",
    "    return oof_df"
   ],
   "outputs": [],
   "metadata": {}
  },
  {
   "cell_type": "code",
   "execution_count": 6,
   "source": [
    "n_split = 2\r\n",
    "n_fold = 1\r\n",
    "oof_df = run_cv(tr_df, n_split, n_fold)"
   ],
   "outputs": [
    {
     "output_type": "stream",
     "name": "stdout",
     "text": [
      "fold 0\n"
     ]
    },
    {
     "output_type": "stream",
     "name": "stderr",
     "text": [
      "  0%|          | 0/147 [00:00<?, ?it/s]"
     ]
    },
    {
     "output_type": "stream",
     "name": "stdout",
     "text": [
      "\n",
      "epoch  0\n",
      "lr  0.001\n"
     ]
    },
    {
     "output_type": "stream",
     "name": "stderr",
     "text": [
      "100%|██████████| 147/147 [00:01<00:00, 87.58it/s] \n",
      "100%|██████████| 37/37 [00:00<00:00, 66.01it/s]\n",
      "  5%|▌         | 8/147 [00:00<00:01, 79.42it/s]"
     ]
    },
    {
     "output_type": "stream",
     "name": "stdout",
     "text": [
      "\n",
      "Train Loss: 0.6379 | Score: 0.63790\n",
      "{'loss': 0.6379047538958439, 'score': 0.63790476, 'mae': 0.63790476}\n",
      "Valid Loss: 0.4378 | Score: 0.43789\n",
      "{'loss': 0.43780223662788803, 'score': 0.43789, 'mae': 0.43789}\n",
      "Update best score : 0.43789\n",
      "Save model : fold0_model.pth\n",
      "\n",
      "epoch  1\n",
      "lr  0.001\n"
     ]
    },
    {
     "output_type": "stream",
     "name": "stderr",
     "text": [
      "100%|██████████| 147/147 [00:01<00:00, 97.60it/s] \n",
      "100%|██████████| 37/37 [00:00<00:00, 62.61it/s]\n",
      "  6%|▌         | 9/147 [00:00<00:01, 82.93it/s]"
     ]
    },
    {
     "output_type": "stream",
     "name": "stdout",
     "text": [
      "\n",
      "Train Loss: 0.4149 | Score: 0.41491\n",
      "{'loss': 0.41491385422596316, 'score': 0.41491383, 'mae': 0.41491383}\n",
      "Valid Loss: 0.3860 | Score: 0.38609\n",
      "{'loss': 0.3860168022078437, 'score': 0.38608742, 'mae': 0.38608742}\n",
      "Update best score : 0.38608742\n",
      "Save model : fold0_model.pth\n",
      "\n",
      "epoch  2\n",
      "lr  0.001\n"
     ]
    },
    {
     "output_type": "stream",
     "name": "stderr",
     "text": [
      "100%|██████████| 147/147 [00:01<00:00, 95.01it/s]\n",
      "100%|██████████| 37/37 [00:00<00:00, 66.60it/s]\n",
      "  6%|▌         | 9/147 [00:00<00:01, 83.72it/s]"
     ]
    },
    {
     "output_type": "stream",
     "name": "stdout",
     "text": [
      "\n",
      "Train Loss: 0.3792 | Score: 0.37921\n",
      "{'loss': 0.3792124102715732, 'score': 0.37921238, 'mae': 0.37921238}\n",
      "Valid Loss: 0.3621 | Score: 0.36219\n",
      "{'loss': 0.36213267171705094, 'score': 0.362189, 'mae': 0.362189}\n",
      "Update best score : 0.362189\n",
      "Save model : fold0_model.pth\n",
      "\n",
      "epoch  3\n",
      "lr  0.001\n"
     ]
    },
    {
     "output_type": "stream",
     "name": "stderr",
     "text": [
      "100%|██████████| 147/147 [00:01<00:00, 94.56it/s]\n",
      "100%|██████████| 37/37 [00:00<00:00, 61.15it/s]\n",
      "  5%|▌         | 8/147 [00:00<00:01, 78.01it/s]"
     ]
    },
    {
     "output_type": "stream",
     "name": "stdout",
     "text": [
      "\n",
      "Train Loss: 0.3615 | Score: 0.36145\n",
      "{'loss': 0.3614530139634398, 'score': 0.36145306, 'mae': 0.36145306}\n",
      "Valid Loss: 0.3423 | Score: 0.34240\n",
      "{'loss': 0.34234009481765126, 'score': 0.34239656, 'mae': 0.34239656}\n",
      "Update best score : 0.34239656\n",
      "Save model : fold0_model.pth\n",
      "\n",
      "epoch  4\n",
      "lr  0.001\n"
     ]
    },
    {
     "output_type": "stream",
     "name": "stderr",
     "text": [
      "100%|██████████| 147/147 [00:01<00:00, 90.94it/s]\n",
      "100%|██████████| 37/37 [00:00<00:00, 66.41it/s]\n",
      "  5%|▌         | 8/147 [00:00<00:01, 79.88it/s]"
     ]
    },
    {
     "output_type": "stream",
     "name": "stdout",
     "text": [
      "\n",
      "Train Loss: 0.3441 | Score: 0.34407\n",
      "{'loss': 0.3440737164750391, 'score': 0.34407374, 'mae': 0.34407374}\n",
      "Valid Loss: 0.3256 | Score: 0.32561\n",
      "{'loss': 0.3255696256418486, 'score': 0.3256138, 'mae': 0.3256138}\n",
      "Update best score : 0.3256138\n",
      "Save model : fold0_model.pth\n",
      "\n",
      "epoch  5\n",
      "lr  0.001\n"
     ]
    },
    {
     "output_type": "stream",
     "name": "stderr",
     "text": [
      "100%|██████████| 147/147 [00:01<00:00, 94.01it/s]\n",
      "100%|██████████| 37/37 [00:00<00:00, 64.52it/s]\n",
      "  6%|▌         | 9/147 [00:00<00:01, 79.86it/s]"
     ]
    },
    {
     "output_type": "stream",
     "name": "stdout",
     "text": [
      "\n",
      "Train Loss: 0.3237 | Score: 0.32366\n",
      "{'loss': 0.32365749827047596, 'score': 0.32365766, 'mae': 0.32365766}\n",
      "Valid Loss: 0.3090 | Score: 0.30905\n",
      "{'loss': 0.30899100448634176, 'score': 0.30904672, 'mae': 0.30904672}\n",
      "Update best score : 0.30904672\n",
      "Save model : fold0_model.pth\n",
      "\n",
      "epoch  6\n",
      "lr  0.001\n"
     ]
    },
    {
     "output_type": "stream",
     "name": "stderr",
     "text": [
      "100%|██████████| 147/147 [00:01<00:00, 93.50it/s]\n",
      "100%|██████████| 37/37 [00:00<00:00, 58.50it/s]\n",
      "  5%|▌         | 8/147 [00:00<00:01, 76.62it/s]"
     ]
    },
    {
     "output_type": "stream",
     "name": "stdout",
     "text": [
      "\n",
      "Train Loss: 0.3146 | Score: 0.31459\n",
      "{'loss': 0.31458814513115657, 'score': 0.31458816, 'mae': 0.31458816}\n",
      "Valid Loss: 0.3032 | Score: 0.30327\n",
      "{'loss': 0.3032337902365504, 'score': 0.30327412, 'mae': 0.30327412}\n",
      "Update best score : 0.30327412\n",
      "Save model : fold0_model.pth\n",
      "\n",
      "epoch  7\n",
      "lr  0.001\n"
     ]
    },
    {
     "output_type": "stream",
     "name": "stderr",
     "text": [
      "100%|██████████| 147/147 [00:01<00:00, 94.08it/s]\n",
      "100%|██████████| 37/37 [00:00<00:00, 66.39it/s]\n",
      "  6%|▌         | 9/147 [00:00<00:01, 83.30it/s]"
     ]
    },
    {
     "output_type": "stream",
     "name": "stdout",
     "text": [
      "\n",
      "Train Loss: 0.3007 | Score: 0.30067\n",
      "{'loss': 0.3006732372605071, 'score': 0.30067322, 'mae': 0.30067322}\n",
      "Valid Loss: 0.3008 | Score: 0.30084\n",
      "{'loss': 0.3008085706749478, 'score': 0.30083504, 'mae': 0.30083504}\n",
      "Update best score : 0.30083504\n",
      "Save model : fold0_model.pth\n",
      "\n",
      "epoch  8\n",
      "lr  0.001\n"
     ]
    },
    {
     "output_type": "stream",
     "name": "stderr",
     "text": [
      "100%|██████████| 147/147 [00:01<00:00, 94.09it/s]\n",
      "100%|██████████| 37/37 [00:00<00:00, 65.51it/s]\n",
      "  5%|▌         | 8/147 [00:00<00:01, 75.77it/s]"
     ]
    },
    {
     "output_type": "stream",
     "name": "stdout",
     "text": [
      "\n",
      "Train Loss: 0.2907 | Score: 0.29071\n",
      "{'loss': 0.29071470588242926, 'score': 0.2907147, 'mae': 0.2907147}\n",
      "Valid Loss: 0.2833 | Score: 0.28332\n",
      "{'loss': 0.2832643776326566, 'score': 0.28331512, 'mae': 0.28331512}\n",
      "Update best score : 0.28331512\n",
      "Save model : fold0_model.pth\n",
      "\n",
      "epoch  9\n",
      "lr  0.001\n"
     ]
    },
    {
     "output_type": "stream",
     "name": "stderr",
     "text": [
      "100%|██████████| 147/147 [00:01<00:00, 90.82it/s]\n",
      "100%|██████████| 37/37 [00:00<00:00, 65.43it/s]\n",
      "  5%|▌         | 8/147 [00:00<00:01, 76.39it/s]"
     ]
    },
    {
     "output_type": "stream",
     "name": "stdout",
     "text": [
      "\n",
      "Train Loss: 0.2850 | Score: 0.28498\n",
      "{'loss': 0.2849798753958981, 'score': 0.28498, 'mae': 0.28498}\n",
      "Valid Loss: 0.2724 | Score: 0.27249\n",
      "{'loss': 0.2724437923044772, 'score': 0.27248764, 'mae': 0.27248764}\n",
      "Update best score : 0.27248764\n",
      "Save model : fold0_model.pth\n",
      "\n",
      "epoch  10\n",
      "lr  0.001\n"
     ]
    },
    {
     "output_type": "stream",
     "name": "stderr",
     "text": [
      "100%|██████████| 147/147 [00:01<00:00, 93.66it/s]\n",
      "100%|██████████| 37/37 [00:00<00:00, 62.67it/s]\n",
      "  5%|▌         | 8/147 [00:00<00:01, 71.74it/s]"
     ]
    },
    {
     "output_type": "stream",
     "name": "stdout",
     "text": [
      "\n",
      "Train Loss: 0.2717 | Score: 0.27171\n",
      "{'loss': 0.2717131784781307, 'score': 0.27171317, 'mae': 0.27171317}\n",
      "Valid Loss: 0.2681 | Score: 0.26819\n",
      "{'loss': 0.26814095394031423, 'score': 0.2681937, 'mae': 0.2681937}\n",
      "Update best score : 0.2681937\n",
      "Save model : fold0_model.pth\n",
      "\n",
      "epoch  11\n",
      "lr  0.001\n"
     ]
    },
    {
     "output_type": "stream",
     "name": "stderr",
     "text": [
      "100%|██████████| 147/147 [00:01<00:00, 89.29it/s]\n",
      "100%|██████████| 37/37 [00:00<00:00, 63.82it/s]\n",
      "  6%|▌         | 9/147 [00:00<00:01, 82.04it/s]"
     ]
    },
    {
     "output_type": "stream",
     "name": "stdout",
     "text": [
      "\n",
      "Train Loss: 0.2696 | Score: 0.26964\n",
      "{'loss': 0.2696407922879368, 'score': 0.2696408, 'mae': 0.2696408}\n",
      "Valid Loss: 0.2690 | Score: 0.26905\n",
      "{'loss': 0.26901301580506404, 'score': 0.2690541, 'mae': 0.2690541}\n",
      "\n",
      "epoch  12\n",
      "lr  0.001\n"
     ]
    },
    {
     "output_type": "stream",
     "name": "stderr",
     "text": [
      "100%|██████████| 147/147 [00:01<00:00, 96.67it/s]\n",
      "100%|██████████| 37/37 [00:00<00:00, 66.80it/s]\n",
      "  6%|▌         | 9/147 [00:00<00:01, 87.61it/s]"
     ]
    },
    {
     "output_type": "stream",
     "name": "stdout",
     "text": [
      "\n",
      "Train Loss: 0.2646 | Score: 0.26456\n",
      "{'loss': 0.2645570001229137, 'score': 0.26455697, 'mae': 0.26455697}\n",
      "Valid Loss: 0.2547 | Score: 0.25475\n",
      "{'loss': 0.25471076933113307, 'score': 0.25474733, 'mae': 0.25474733}\n",
      "Update best score : 0.25474733\n",
      "Save model : fold0_model.pth\n",
      "\n",
      "epoch  13\n",
      "lr  0.001\n"
     ]
    },
    {
     "output_type": "stream",
     "name": "stderr",
     "text": [
      "100%|██████████| 147/147 [00:01<00:00, 97.39it/s]\n",
      "100%|██████████| 37/37 [00:00<00:00, 63.63it/s]\n",
      "  5%|▌         | 8/147 [00:00<00:01, 71.62it/s]"
     ]
    },
    {
     "output_type": "stream",
     "name": "stdout",
     "text": [
      "\n",
      "Train Loss: 0.2581 | Score: 0.25807\n",
      "{'loss': 0.25807471674721255, 'score': 0.25807467, 'mae': 0.25807467}\n",
      "Valid Loss: 0.2492 | Score: 0.24927\n",
      "{'loss': 0.2492336425426844, 'score': 0.24927063, 'mae': 0.24927063}\n",
      "Update best score : 0.24927063\n",
      "Save model : fold0_model.pth\n",
      "\n",
      "epoch  14\n",
      "lr  0.001\n"
     ]
    },
    {
     "output_type": "stream",
     "name": "stderr",
     "text": [
      "100%|██████████| 147/147 [00:01<00:00, 95.96it/s] \n",
      "100%|██████████| 37/37 [00:00<00:00, 67.23it/s]\n",
      "  6%|▌         | 9/147 [00:00<00:01, 81.30it/s]"
     ]
    },
    {
     "output_type": "stream",
     "name": "stdout",
     "text": [
      "\n",
      "Train Loss: 0.2509 | Score: 0.25092\n",
      "{'loss': 0.2509152623666387, 'score': 0.25091523, 'mae': 0.25091523}\n",
      "Valid Loss: 0.2386 | Score: 0.23862\n",
      "{'loss': 0.23857930222073118, 'score': 0.23862116, 'mae': 0.23862116}\n",
      "Update best score : 0.23862116\n",
      "Save model : fold0_model.pth\n",
      "\n",
      "epoch  15\n",
      "lr  0.001\n"
     ]
    },
    {
     "output_type": "stream",
     "name": "stderr",
     "text": [
      "100%|██████████| 147/147 [00:01<00:00, 97.65it/s]\n",
      "100%|██████████| 37/37 [00:00<00:00, 65.21it/s]\n",
      "  5%|▌         | 8/147 [00:00<00:01, 75.81it/s]"
     ]
    },
    {
     "output_type": "stream",
     "name": "stdout",
     "text": [
      "\n",
      "Train Loss: 0.2472 | Score: 0.24719\n",
      "{'loss': 0.24718639437033205, 'score': 0.24718639, 'mae': 0.24718639}\n",
      "Valid Loss: 0.2433 | Score: 0.24331\n",
      "{'loss': 0.2432837091587685, 'score': 0.24331175, 'mae': 0.24331175}\n",
      "\n",
      "epoch  16\n",
      "lr  0.001\n"
     ]
    },
    {
     "output_type": "stream",
     "name": "stderr",
     "text": [
      "100%|██████████| 147/147 [00:01<00:00, 91.26it/s]\n",
      "100%|██████████| 37/37 [00:00<00:00, 65.65it/s]\n",
      "  5%|▌         | 8/147 [00:00<00:01, 77.15it/s]"
     ]
    },
    {
     "output_type": "stream",
     "name": "stdout",
     "text": [
      "\n",
      "Train Loss: 0.2437 | Score: 0.24368\n",
      "{'loss': 0.24367552610481677, 'score': 0.24367549, 'mae': 0.24367549}\n",
      "Valid Loss: 0.2436 | Score: 0.24364\n",
      "{'loss': 0.24359882683367343, 'score': 0.24364239, 'mae': 0.24364239}\n",
      "\n",
      "epoch  17\n",
      "lr  0.001\n"
     ]
    },
    {
     "output_type": "stream",
     "name": "stderr",
     "text": [
      "100%|██████████| 147/147 [00:01<00:00, 96.50it/s] \n",
      "100%|██████████| 37/37 [00:00<00:00, 63.64it/s]\n",
      "  5%|▌         | 8/147 [00:00<00:01, 76.23it/s]"
     ]
    },
    {
     "output_type": "stream",
     "name": "stdout",
     "text": [
      "\n",
      "Train Loss: 0.2376 | Score: 0.23758\n",
      "{'loss': 0.23758218037027892, 'score': 0.23758222, 'mae': 0.23758222}\n",
      "Valid Loss: 0.2297 | Score: 0.22971\n",
      "{'loss': 0.22968114993056735, 'score': 0.22971217, 'mae': 0.22971217}\n",
      "Update best score : 0.22971217\n",
      "Save model : fold0_model.pth\n",
      "\n",
      "epoch  18\n",
      "lr  0.001\n"
     ]
    },
    {
     "output_type": "stream",
     "name": "stderr",
     "text": [
      "100%|██████████| 147/147 [00:01<00:00, 96.90it/s] \n",
      "100%|██████████| 37/37 [00:00<00:00, 66.44it/s]\n",
      "  5%|▍         | 7/147 [00:00<00:02, 64.81it/s]"
     ]
    },
    {
     "output_type": "stream",
     "name": "stdout",
     "text": [
      "\n",
      "Train Loss: 0.2328 | Score: 0.23275\n",
      "{'loss': 0.2327546314114616, 'score': 0.23275459, 'mae': 0.23275459}\n",
      "Valid Loss: 0.2269 | Score: 0.22688\n",
      "{'loss': 0.22685106219472112, 'score': 0.22687875, 'mae': 0.22687875}\n",
      "Update best score : 0.22687875\n",
      "Save model : fold0_model.pth\n",
      "\n",
      "epoch  19\n",
      "lr  0.001\n"
     ]
    },
    {
     "output_type": "stream",
     "name": "stderr",
     "text": [
      "100%|██████████| 147/147 [00:01<00:00, 95.30it/s] \n",
      "100%|██████████| 37/37 [00:00<00:00, 67.11it/s]\n",
      "  5%|▌         | 8/147 [00:00<00:01, 79.41it/s]"
     ]
    },
    {
     "output_type": "stream",
     "name": "stdout",
     "text": [
      "\n",
      "Train Loss: 0.2306 | Score: 0.23058\n",
      "{'loss': 0.23058222122743827, 'score': 0.23058224, 'mae': 0.23058224}\n",
      "Valid Loss: 0.2224 | Score: 0.22241\n",
      "{'loss': 0.2223932412830559, 'score': 0.22241181, 'mae': 0.22241181}\n",
      "Update best score : 0.22241181\n",
      "Save model : fold0_model.pth\n",
      "\n",
      "epoch  20\n",
      "lr  0.001\n"
     ]
    },
    {
     "output_type": "stream",
     "name": "stderr",
     "text": [
      "100%|██████████| 147/147 [00:01<00:00, 97.24it/s]\n",
      "100%|██████████| 37/37 [00:00<00:00, 62.32it/s]\n",
      "  6%|▌         | 9/147 [00:00<00:01, 79.86it/s]"
     ]
    },
    {
     "output_type": "stream",
     "name": "stdout",
     "text": [
      "\n",
      "Train Loss: 0.2256 | Score: 0.22559\n",
      "{'loss': 0.22559103846144515, 'score': 0.22559105, 'mae': 0.22559105}\n",
      "Valid Loss: 0.2199 | Score: 0.21998\n",
      "{'loss': 0.21994666876019658, 'score': 0.21997574, 'mae': 0.21997574}\n",
      "Update best score : 0.21997574\n",
      "Save model : fold0_model.pth\n",
      "\n",
      "epoch  21\n",
      "lr  0.001\n"
     ]
    },
    {
     "output_type": "stream",
     "name": "stderr",
     "text": [
      "100%|██████████| 147/147 [00:01<00:00, 93.98it/s]\n",
      "100%|██████████| 37/37 [00:00<00:00, 66.92it/s]\n",
      "  6%|▌         | 9/147 [00:00<00:01, 79.86it/s]"
     ]
    },
    {
     "output_type": "stream",
     "name": "stdout",
     "text": [
      "\n",
      "Train Loss: 0.2241 | Score: 0.22412\n",
      "{'loss': 0.22411522107059453, 'score': 0.22411521, 'mae': 0.22411521}\n",
      "Valid Loss: 0.2178 | Score: 0.21779\n",
      "{'loss': 0.2177637308030515, 'score': 0.21779104, 'mae': 0.21779104}\n",
      "Update best score : 0.21779104\n",
      "Save model : fold0_model.pth\n",
      "\n",
      "epoch  22\n",
      "lr  0.001\n"
     ]
    },
    {
     "output_type": "stream",
     "name": "stderr",
     "text": [
      "100%|██████████| 147/147 [00:01<00:00, 96.57it/s] \n",
      "100%|██████████| 37/37 [00:00<00:00, 66.35it/s]\n",
      "  6%|▌         | 9/147 [00:00<00:01, 85.13it/s]"
     ]
    },
    {
     "output_type": "stream",
     "name": "stdout",
     "text": [
      "\n",
      "Train Loss: 0.2198 | Score: 0.21983\n",
      "{'loss': 0.21983349759157012, 'score': 0.21983351, 'mae': 0.21983351}\n",
      "Valid Loss: 0.2098 | Score: 0.20984\n",
      "{'loss': 0.20981454688149528, 'score': 0.2098378, 'mae': 0.2098378}\n",
      "Update best score : 0.2098378\n",
      "Save model : fold0_model.pth\n",
      "\n",
      "epoch  23\n",
      "lr  0.001\n"
     ]
    },
    {
     "output_type": "stream",
     "name": "stderr",
     "text": [
      "100%|██████████| 147/147 [00:01<00:00, 97.66it/s] \n",
      "100%|██████████| 37/37 [00:00<00:00, 60.34it/s]\n",
      "  5%|▍         | 7/147 [00:00<00:02, 66.43it/s]"
     ]
    },
    {
     "output_type": "stream",
     "name": "stdout",
     "text": [
      "\n",
      "Train Loss: 0.2155 | Score: 0.21547\n",
      "{'loss': 0.21547048199338978, 'score': 0.21547051, 'mae': 0.21547051}\n",
      "Valid Loss: 0.2112 | Score: 0.21122\n",
      "{'loss': 0.21118817740195506, 'score': 0.21122026, 'mae': 0.21122026}\n",
      "\n",
      "epoch  24\n",
      "lr  0.001\n"
     ]
    },
    {
     "output_type": "stream",
     "name": "stderr",
     "text": [
      "100%|██████████| 147/147 [00:01<00:00, 92.44it/s]\n",
      "100%|██████████| 37/37 [00:00<00:00, 65.54it/s]\n",
      "  6%|▌         | 9/147 [00:00<00:01, 82.05it/s]"
     ]
    },
    {
     "output_type": "stream",
     "name": "stdout",
     "text": [
      "\n",
      "Train Loss: 0.2116 | Score: 0.21155\n",
      "{'loss': 0.21155164436418183, 'score': 0.21155164, 'mae': 0.21155164}\n",
      "Valid Loss: 0.2182 | Score: 0.21827\n",
      "{'loss': 0.21822584239212242, 'score': 0.21827371, 'mae': 0.21827371}\n",
      "\n",
      "epoch  25\n",
      "lr  0.001\n"
     ]
    },
    {
     "output_type": "stream",
     "name": "stderr",
     "text": [
      "100%|██████████| 147/147 [00:01<00:00, 97.85it/s] \n",
      "100%|██████████| 37/37 [00:00<00:00, 66.84it/s]\n",
      " 12%|█▏        | 17/147 [00:00<00:01, 84.92it/s]"
     ]
    },
    {
     "output_type": "stream",
     "name": "stdout",
     "text": [
      "\n",
      "Train Loss: 0.2120 | Score: 0.21199\n",
      "{'loss': 0.2119928486898643, 'score': 0.21199287, 'mae': 0.21199287}\n",
      "Valid Loss: 0.2139 | Score: 0.21395\n",
      "{'loss': 0.21390031882234523, 'score': 0.21395034, 'mae': 0.21395034}\n",
      "\n",
      "epoch  26\n",
      "lr  0.001\n"
     ]
    },
    {
     "output_type": "stream",
     "name": "stderr",
     "text": [
      "100%|██████████| 147/147 [00:01<00:00, 91.69it/s]\n",
      "100%|██████████| 37/37 [00:00<00:00, 65.89it/s]\n",
      "  5%|▌         | 8/147 [00:00<00:01, 75.67it/s]"
     ]
    },
    {
     "output_type": "stream",
     "name": "stdout",
     "text": [
      "\n",
      "Train Loss: 0.2089 | Score: 0.20890\n",
      "{'loss': 0.20890218911527778, 'score': 0.20890221, 'mae': 0.20890221}\n",
      "Valid Loss: 0.2116 | Score: 0.21158\n",
      "{'loss': 0.211559506284224, 'score': 0.21158177, 'mae': 0.21158177}\n",
      "\n",
      "epoch  27\n",
      "lr  0.001\n"
     ]
    },
    {
     "output_type": "stream",
     "name": "stderr",
     "text": [
      "100%|██████████| 147/147 [00:01<00:00, 95.03it/s]\n",
      "100%|██████████| 37/37 [00:00<00:00, 63.52it/s]\n",
      "  5%|▌         | 8/147 [00:00<00:01, 75.69it/s]"
     ]
    },
    {
     "output_type": "stream",
     "name": "stdout",
     "text": [
      "\n",
      "Train Loss: 0.2068 | Score: 0.20681\n",
      "{'loss': 0.20681240049754682, 'score': 0.20681238, 'mae': 0.20681238}\n",
      "Valid Loss: 0.1975 | Score: 0.19750\n",
      "{'loss': 0.19747158562814868, 'score': 0.19749653, 'mae': 0.19749653}\n",
      "Update best score : 0.19749653\n",
      "Save model : fold0_model.pth\n",
      "\n",
      "epoch  28\n",
      "lr  0.001\n"
     ]
    },
    {
     "output_type": "stream",
     "name": "stderr",
     "text": [
      "100%|██████████| 147/147 [00:01<00:00, 97.19it/s] \n",
      "100%|██████████| 37/37 [00:00<00:00, 65.90it/s]\n",
      "  5%|▍         | 7/147 [00:00<00:02, 66.22it/s]"
     ]
    },
    {
     "output_type": "stream",
     "name": "stdout",
     "text": [
      "\n",
      "Train Loss: 0.2075 | Score: 0.20754\n",
      "{'loss': 0.20754420878935834, 'score': 0.2075442, 'mae': 0.2075442}\n",
      "Valid Loss: 0.1995 | Score: 0.19954\n",
      "{'loss': 0.1995169125698708, 'score': 0.1995417, 'mae': 0.1995417}\n",
      "\n",
      "epoch  29\n",
      "lr  0.001\n"
     ]
    },
    {
     "output_type": "stream",
     "name": "stderr",
     "text": [
      "100%|██████████| 147/147 [00:01<00:00, 92.88it/s]\n",
      "100%|██████████| 37/37 [00:00<00:00, 65.90it/s]\n",
      "  5%|▌         | 8/147 [00:00<00:01, 75.66it/s]"
     ]
    },
    {
     "output_type": "stream",
     "name": "stdout",
     "text": [
      "\n",
      "Train Loss: 0.2018 | Score: 0.20179\n",
      "{'loss': 0.20179474029411265, 'score': 0.20179477, 'mae': 0.20179477}\n",
      "Valid Loss: 0.1991 | Score: 0.19908\n",
      "{'loss': 0.19905938892751127, 'score': 0.19907689, 'mae': 0.19907689}\n",
      "\n",
      "epoch  30\n",
      "lr  0.001\n"
     ]
    },
    {
     "output_type": "stream",
     "name": "stderr",
     "text": [
      "100%|██████████| 147/147 [00:01<00:00, 96.78it/s] \n",
      "100%|██████████| 37/37 [00:00<00:00, 63.64it/s]\n",
      "  6%|▌         | 9/147 [00:00<00:01, 85.94it/s]"
     ]
    },
    {
     "output_type": "stream",
     "name": "stdout",
     "text": [
      "\n",
      "Train Loss: 0.2019 | Score: 0.20190\n",
      "{'loss': 0.20190165896399492, 'score': 0.20190169, 'mae': 0.20190169}\n",
      "Valid Loss: 0.1975 | Score: 0.19755\n",
      "{'loss': 0.19752252343538645, 'score': 0.19755016, 'mae': 0.19755016}\n",
      "\n",
      "epoch  31\n",
      "lr  0.001\n"
     ]
    },
    {
     "output_type": "stream",
     "name": "stderr",
     "text": [
      "100%|██████████| 147/147 [00:01<00:00, 92.33it/s]\n",
      "100%|██████████| 37/37 [00:00<00:00, 66.13it/s]\n",
      " 11%|█         | 16/147 [00:00<00:01, 79.42it/s]"
     ]
    },
    {
     "output_type": "stream",
     "name": "stdout",
     "text": [
      "\n",
      "Train Loss: 0.1978 | Score: 0.19780\n",
      "{'loss': 0.19779839432563912, 'score': 0.1977984, 'mae': 0.1977984}\n",
      "Valid Loss: 0.2047 | Score: 0.20477\n",
      "{'loss': 0.20473837369197123, 'score': 0.20477432, 'mae': 0.20477432}\n",
      "\n",
      "epoch  32\n",
      "lr  0.001\n"
     ]
    },
    {
     "output_type": "stream",
     "name": "stderr",
     "text": [
      "100%|██████████| 147/147 [00:01<00:00, 96.09it/s] \n",
      "100%|██████████| 37/37 [00:00<00:00, 67.16it/s]\n",
      "  5%|▌         | 8/147 [00:00<00:01, 78.64it/s]"
     ]
    },
    {
     "output_type": "stream",
     "name": "stdout",
     "text": [
      "\n",
      "Train Loss: 0.1964 | Score: 0.19644\n",
      "{'loss': 0.19644158247376786, 'score': 0.19644162, 'mae': 0.19644162}\n",
      "Valid Loss: 0.1964 | Score: 0.19642\n",
      "{'loss': 0.19635976488525803, 'score': 0.19641542, 'mae': 0.19641542}\n",
      "Update best score : 0.19641542\n",
      "Save model : fold0_model.pth\n",
      "\n",
      "epoch  33\n",
      "lr  0.001\n"
     ]
    },
    {
     "output_type": "stream",
     "name": "stderr",
     "text": [
      "100%|██████████| 147/147 [00:01<00:00, 97.37it/s] \n",
      "100%|██████████| 37/37 [00:00<00:00, 64.91it/s]\n",
      "  5%|▍         | 7/147 [00:00<00:02, 67.49it/s]"
     ]
    },
    {
     "output_type": "stream",
     "name": "stdout",
     "text": [
      "\n",
      "Train Loss: 0.1925 | Score: 0.19253\n",
      "{'loss': 0.19253131858751077, 'score': 0.19253132, 'mae': 0.19253132}\n",
      "Valid Loss: 0.1933 | Score: 0.19339\n",
      "{'loss': 0.19334310132103996, 'score': 0.1933922, 'mae': 0.1933922}\n",
      "Update best score : 0.1933922\n",
      "Save model : fold0_model.pth\n",
      "\n",
      "epoch  34\n",
      "lr  0.001\n"
     ]
    },
    {
     "output_type": "stream",
     "name": "stderr",
     "text": [
      "100%|██████████| 147/147 [00:01<00:00, 92.87it/s]\n",
      "100%|██████████| 37/37 [00:00<00:00, 63.66it/s]\n",
      "  6%|▌         | 9/147 [00:00<00:01, 83.57it/s]"
     ]
    },
    {
     "output_type": "stream",
     "name": "stdout",
     "text": [
      "\n",
      "Train Loss: 0.1945 | Score: 0.19455\n",
      "{'loss': 0.19454865309656882, 'score': 0.19454864, 'mae': 0.19454864}\n",
      "Valid Loss: 0.1897 | Score: 0.18974\n",
      "{'loss': 0.18968287996343663, 'score': 0.18973969, 'mae': 0.18973969}\n",
      "Update best score : 0.18973969\n",
      "Save model : fold0_model.pth\n",
      "\n",
      "epoch  35\n",
      "lr  0.001\n"
     ]
    },
    {
     "output_type": "stream",
     "name": "stderr",
     "text": [
      "100%|██████████| 147/147 [00:01<00:00, 97.52it/s] \n",
      "100%|██████████| 37/37 [00:00<00:00, 66.85it/s]\n",
      "  6%|▌         | 9/147 [00:00<00:01, 83.58it/s]"
     ]
    },
    {
     "output_type": "stream",
     "name": "stdout",
     "text": [
      "\n",
      "Train Loss: 0.1951 | Score: 0.19513\n",
      "{'loss': 0.19513009873782697, 'score': 0.19513012, 'mae': 0.19513012}\n",
      "Valid Loss: 0.1988 | Score: 0.19887\n",
      "{'loss': 0.19883990851608482, 'score': 0.19886886, 'mae': 0.19886886}\n",
      "\n",
      "epoch  36\n",
      "lr  0.001\n"
     ]
    },
    {
     "output_type": "stream",
     "name": "stderr",
     "text": [
      "100%|██████████| 147/147 [00:01<00:00, 92.28it/s]\n",
      "100%|██████████| 37/37 [00:00<00:00, 65.78it/s]\n",
      "  5%|▌         | 8/147 [00:00<00:01, 77.88it/s]"
     ]
    },
    {
     "output_type": "stream",
     "name": "stdout",
     "text": [
      "\n",
      "Train Loss: 0.1928 | Score: 0.19282\n",
      "{'loss': 0.19282402199547308, 'score': 0.19282404, 'mae': 0.19282404}\n",
      "Valid Loss: 0.1856 | Score: 0.18564\n",
      "{'loss': 0.1855953919726449, 'score': 0.18563573, 'mae': 0.18563573}\n",
      "Update best score : 0.18563573\n",
      "Save model : fold0_model.pth\n",
      "\n",
      "epoch  37\n",
      "lr  0.001\n"
     ]
    },
    {
     "output_type": "stream",
     "name": "stderr",
     "text": [
      "100%|██████████| 147/147 [00:01<00:00, 94.15it/s]\n",
      "100%|██████████| 37/37 [00:00<00:00, 62.12it/s]\n",
      "  5%|▌         | 8/147 [00:00<00:01, 78.62it/s]"
     ]
    },
    {
     "output_type": "stream",
     "name": "stdout",
     "text": [
      "\n",
      "Train Loss: 0.1921 | Score: 0.19208\n",
      "{'loss': 0.1920833288609576, 'score': 0.19208328, 'mae': 0.19208328}\n",
      "Valid Loss: 0.1978 | Score: 0.19781\n",
      "{'loss': 0.197806995865461, 'score': 0.19780512, 'mae': 0.19780512}\n",
      "\n",
      "epoch  38\n",
      "lr  0.001\n"
     ]
    },
    {
     "output_type": "stream",
     "name": "stderr",
     "text": [
      "100%|██████████| 147/147 [00:01<00:00, 97.07it/s]\n",
      "100%|██████████| 37/37 [00:00<00:00, 62.88it/s]\n",
      "  5%|▌         | 8/147 [00:00<00:01, 77.88it/s]"
     ]
    },
    {
     "output_type": "stream",
     "name": "stdout",
     "text": [
      "\n",
      "Train Loss: 0.1927 | Score: 0.19266\n",
      "{'loss': 0.19265884373869216, 'score': 0.19265889, 'mae': 0.19265889}\n",
      "Valid Loss: 0.2036 | Score: 0.20368\n",
      "{'loss': 0.20363120452777758, 'score': 0.20368105, 'mae': 0.20368105}\n",
      "\n",
      "epoch  39\n",
      "lr  0.001\n"
     ]
    },
    {
     "output_type": "stream",
     "name": "stderr",
     "text": [
      "100%|██████████| 147/147 [00:01<00:00, 93.90it/s]\n",
      "100%|██████████| 37/37 [00:00<00:00, 63.96it/s]\n",
      "  5%|▌         | 8/147 [00:00<00:01, 77.90it/s]"
     ]
    },
    {
     "output_type": "stream",
     "name": "stdout",
     "text": [
      "\n",
      "Train Loss: 0.1874 | Score: 0.18742\n",
      "{'loss': 0.1874170621641639, 'score': 0.18741708, 'mae': 0.18741708}\n",
      "Valid Loss: 0.1912 | Score: 0.19123\n",
      "{'loss': 0.19116316695471067, 'score': 0.19123454, 'mae': 0.19123454}\n",
      "\n",
      "epoch  40\n",
      "lr  0.001\n"
     ]
    },
    {
     "output_type": "stream",
     "name": "stderr",
     "text": [
      "100%|██████████| 147/147 [00:01<00:00, 96.83it/s] \n",
      "100%|██████████| 37/37 [00:00<00:00, 63.41it/s]\n",
      "  5%|▌         | 8/147 [00:00<00:01, 72.28it/s]"
     ]
    },
    {
     "output_type": "stream",
     "name": "stdout",
     "text": [
      "\n",
      "Train Loss: 0.1854 | Score: 0.18538\n",
      "{'loss': 0.18538343227234017, 'score': 0.18538351, 'mae': 0.18538351}\n",
      "Valid Loss: 0.1859 | Score: 0.18595\n",
      "{'loss': 0.18590480169734439, 'score': 0.18594581, 'mae': 0.18594581}\n",
      "\n",
      "epoch  41\n",
      "lr  0.001\n"
     ]
    },
    {
     "output_type": "stream",
     "name": "stderr",
     "text": [
      "100%|██████████| 147/147 [00:01<00:00, 90.26it/s]\n",
      "100%|██████████| 37/37 [00:00<00:00, 65.36it/s]\n",
      "  5%|▌         | 8/147 [00:00<00:01, 78.90it/s]"
     ]
    },
    {
     "output_type": "stream",
     "name": "stdout",
     "text": [
      "\n",
      "Train Loss: 0.1866 | Score: 0.18663\n",
      "{'loss': 0.18663425997000974, 'score': 0.18663427, 'mae': 0.18663427}\n",
      "Valid Loss: 0.1806 | Score: 0.18067\n",
      "{'loss': 0.18062950388805285, 'score': 0.18066883, 'mae': 0.18066883}\n",
      "Update best score : 0.18066883\n",
      "Save model : fold0_model.pth\n",
      "\n",
      "epoch  42\n",
      "lr  0.001\n"
     ]
    },
    {
     "output_type": "stream",
     "name": "stderr",
     "text": [
      "100%|██████████| 147/147 [00:01<00:00, 93.67it/s]\n",
      "100%|██████████| 37/37 [00:00<00:00, 65.40it/s]\n",
      "  6%|▌         | 9/147 [00:00<00:01, 83.59it/s]"
     ]
    },
    {
     "output_type": "stream",
     "name": "stdout",
     "text": [
      "\n",
      "Train Loss: 0.1910 | Score: 0.19099\n",
      "{'loss': 0.190985543894119, 'score': 0.19098556, 'mae': 0.19098556}\n",
      "Valid Loss: 0.1833 | Score: 0.18334\n",
      "{'loss': 0.18328908569103963, 'score': 0.18333852, 'mae': 0.18333852}\n",
      "\n",
      "epoch  43\n",
      "lr  0.001\n"
     ]
    },
    {
     "output_type": "stream",
     "name": "stderr",
     "text": [
      "100%|██████████| 147/147 [00:01<00:00, 96.89it/s]\n",
      "100%|██████████| 37/37 [00:00<00:00, 62.16it/s]\n",
      "  5%|▌         | 8/147 [00:00<00:01, 73.08it/s]"
     ]
    },
    {
     "output_type": "stream",
     "name": "stdout",
     "text": [
      "\n",
      "Train Loss: 0.1835 | Score: 0.18354\n",
      "{'loss': 0.18354483445485434, 'score': 0.18354486, 'mae': 0.18354486}\n",
      "Valid Loss: 0.1884 | Score: 0.18845\n",
      "{'loss': 0.18841678910964244, 'score': 0.18845204, 'mae': 0.18845204}\n",
      "\n",
      "epoch  44\n",
      "lr  0.001\n"
     ]
    },
    {
     "output_type": "stream",
     "name": "stderr",
     "text": [
      "100%|██████████| 147/147 [00:01<00:00, 93.03it/s]\n",
      "100%|██████████| 37/37 [00:00<00:00, 62.00it/s]\n",
      "  6%|▌         | 9/147 [00:00<00:01, 81.33it/s]"
     ]
    },
    {
     "output_type": "stream",
     "name": "stdout",
     "text": [
      "\n",
      "Train Loss: 0.1799 | Score: 0.17991\n",
      "{'loss': 0.17990647753079733, 'score': 0.17990643, 'mae': 0.17990643}\n",
      "Valid Loss: 0.1768 | Score: 0.17689\n",
      "{'loss': 0.17684316031030706, 'score': 0.17688526, 'mae': 0.17688526}\n",
      "Update best score : 0.17688526\n",
      "Save model : fold0_model.pth\n",
      "\n",
      "epoch  45\n",
      "lr  0.001\n"
     ]
    },
    {
     "output_type": "stream",
     "name": "stderr",
     "text": [
      "100%|██████████| 147/147 [00:01<00:00, 93.66it/s]\n",
      "100%|██████████| 37/37 [00:00<00:00, 65.40it/s]\n",
      "  5%|▌         | 8/147 [00:00<00:01, 78.04it/s]"
     ]
    },
    {
     "output_type": "stream",
     "name": "stdout",
     "text": [
      "\n",
      "Train Loss: 0.1823 | Score: 0.18231\n",
      "{'loss': 0.18231078019352998, 'score': 0.18231085, 'mae': 0.18231085}\n",
      "Valid Loss: 0.1805 | Score: 0.18050\n",
      "{'loss': 0.18046493063101898, 'score': 0.18049552, 'mae': 0.18049552}\n",
      "\n",
      "epoch  46\n",
      "lr  0.001\n"
     ]
    },
    {
     "output_type": "stream",
     "name": "stderr",
     "text": [
      "100%|██████████| 147/147 [00:01<00:00, 93.65it/s]\n",
      "100%|██████████| 37/37 [00:00<00:00, 66.27it/s]\n",
      "  5%|▌         | 8/147 [00:00<00:01, 77.88it/s]"
     ]
    },
    {
     "output_type": "stream",
     "name": "stdout",
     "text": [
      "\n",
      "Train Loss: 0.1801 | Score: 0.18005\n",
      "{'loss': 0.1800522429197013, 'score': 0.18005222, 'mae': 0.18005222}\n",
      "Valid Loss: 0.1821 | Score: 0.18212\n",
      "{'loss': 0.18208121810410474, 'score': 0.18212315, 'mae': 0.18212315}\n",
      "\n",
      "epoch  47\n",
      "lr  0.001\n"
     ]
    },
    {
     "output_type": "stream",
     "name": "stderr",
     "text": [
      "100%|██████████| 147/147 [00:01<00:00, 94.19it/s]\n",
      "100%|██████████| 37/37 [00:00<00:00, 61.66it/s]\n",
      "  5%|▍         | 7/147 [00:00<00:02, 69.25it/s]"
     ]
    },
    {
     "output_type": "stream",
     "name": "stdout",
     "text": [
      "\n",
      "Train Loss: 0.1799 | Score: 0.17994\n",
      "{'loss': 0.1799428088932621, 'score': 0.17994283, 'mae': 0.17994283}\n",
      "Valid Loss: 0.1786 | Score: 0.17867\n",
      "{'loss': 0.17862518051186124, 'score': 0.17866667, 'mae': 0.17866667}\n",
      "\n",
      "epoch  48\n",
      "lr  0.001\n"
     ]
    },
    {
     "output_type": "stream",
     "name": "stderr",
     "text": [
      "100%|██████████| 147/147 [00:01<00:00, 94.94it/s]\n",
      "100%|██████████| 37/37 [00:00<00:00, 63.20it/s]\n",
      "  5%|▌         | 8/147 [00:00<00:01, 78.66it/s]"
     ]
    },
    {
     "output_type": "stream",
     "name": "stdout",
     "text": [
      "\n",
      "Train Loss: 0.1782 | Score: 0.17816\n",
      "{'loss': 0.17815775733415773, 'score': 0.17815776, 'mae': 0.17815776}\n",
      "Valid Loss: 0.1859 | Score: 0.18597\n",
      "{'loss': 0.18592931451024236, 'score': 0.18597057, 'mae': 0.18597057}\n",
      "\n",
      "epoch  49\n",
      "lr  0.001\n"
     ]
    },
    {
     "output_type": "stream",
     "name": "stderr",
     "text": [
      "100%|██████████| 147/147 [00:01<00:00, 93.96it/s]\n",
      "100%|██████████| 37/37 [00:00<00:00, 65.96it/s]\n"
     ]
    },
    {
     "output_type": "stream",
     "name": "stdout",
     "text": [
      "\n",
      "Train Loss: 0.1794 | Score: 0.17937\n",
      "{'loss': 0.17937237034444095, 'score': 0.1793724, 'mae': 0.1793724}\n",
      "Valid Loss: 0.1749 | Score: 0.17495\n",
      "{'loss': 0.17489980926384796, 'score': 0.17495067, 'mae': 0.17495067}\n",
      "Update best score : 0.17495067\n",
      "Save model : fold0_model.pth\n"
     ]
    },
    {
     "output_type": "stream",
     "name": "stderr",
     "text": [
      "100%|██████████| 37/37 [00:00<00:00, 99.14it/s]\n"
     ]
    }
   ],
   "metadata": {}
  },
  {
   "cell_type": "code",
   "execution_count": 7,
   "source": [
    "def run_predict(model, df):\r\n",
    "    x = make_x(df)\r\n",
    "    pred = model.predict(x)\r\n",
    "    return pred    "
   ],
   "outputs": [],
   "metadata": {}
  },
  {
   "cell_type": "code",
   "execution_count": 8,
   "source": [
    "model = []\r\n",
    "for fold in range(n_fold):\r\n",
    "    with open(f\"fold{fold}_model.pickle\", 'rb') as p:\r\n",
    "        mdl = pickle.load(p)\r\n",
    "    model.append(mdl)\r\n",
    "\r\n",
    "model = ut.EnsembleModel(model)"
   ],
   "outputs": [],
   "metadata": {}
  },
  {
   "cell_type": "code",
   "execution_count": 9,
   "source": [
    "pred = run_predict(model, ts_df)\r\n",
    "sub_df = ts_df[[\"id\"]].copy()\r\n",
    "sub_df[\"pressure\"] = pred\r\n",
    "sub_df.to_csv(f\"submission_{os.path.basename(os.getcwd())}.csv\", index=False)"
   ],
   "outputs": [
    {
     "output_type": "stream",
     "name": "stderr",
     "text": [
      "100%|██████████| 50/50 [00:09<00:00,  5.33it/s]\n"
     ]
    }
   ],
   "metadata": {}
  }
 ],
 "metadata": {
  "orig_nbformat": 4,
  "language_info": {
   "name": "python",
   "version": "3.7.10",
   "mimetype": "text/x-python",
   "codemirror_mode": {
    "name": "ipython",
    "version": 3
   },
   "pygments_lexer": "ipython3",
   "nbconvert_exporter": "python",
   "file_extension": ".py"
  },
  "kernelspec": {
   "name": "python3",
   "display_name": "Python 3.7.10 64-bit ('trade2': conda)"
  },
  "interpreter": {
   "hash": "b9abb2de7bbd14ec3b2cec3411be225f596b97596a3416a05ec8066ec34b509f"
  }
 },
 "nbformat": 4,
 "nbformat_minor": 2
}